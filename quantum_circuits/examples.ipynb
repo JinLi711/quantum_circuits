{
 "cells": [
  {
   "cell_type": "markdown",
   "metadata": {},
   "source": [
    "Examples on how to use this package:"
   ]
  },
  {
   "cell_type": "code",
   "execution_count": 8,
   "metadata": {
    "ExecuteTime": {
     "end_time": "2020-01-15T18:59:35.584345Z",
     "start_time": "2020-01-15T18:59:35.581063Z"
    }
   },
   "outputs": [],
   "source": [
    "import sys\n",
    "\n",
    "sys.path.insert(0, '../quantum_circuits/')\n",
    "\n",
    "from circuit import Circuit"
   ]
  },
  {
   "cell_type": "markdown",
   "metadata": {},
   "source": [
    "# Circuit Creation"
   ]
  },
  {
   "cell_type": "code",
   "execution_count": 9,
   "metadata": {
    "ExecuteTime": {
     "end_time": "2020-01-15T18:59:35.984273Z",
     "start_time": "2020-01-15T18:59:35.920713Z"
    }
   },
   "outputs": [],
   "source": [
    "circ = Circuit(3,5)\n",
    "circ.X(2)\n",
    "circ.H()"
   ]
  },
  {
   "cell_type": "markdown",
   "metadata": {},
   "source": [
    "# Getting the Current State"
   ]
  },
  {
   "cell_type": "code",
   "execution_count": 10,
   "metadata": {
    "ExecuteTime": {
     "end_time": "2020-01-15T18:59:36.243173Z",
     "start_time": "2020-01-15T18:59:36.233798Z"
    }
   },
   "outputs": [
    {
     "data": {
      "text/latex": [
       "$\\displaystyle \\frac{\\sqrt{2} {\\left|000\\right\\rangle }}{4} - \\frac{\\sqrt{2} {\\left|001\\right\\rangle }}{4} + \\frac{\\sqrt{2} {\\left|010\\right\\rangle }}{4} - \\frac{\\sqrt{2} {\\left|011\\right\\rangle }}{4} + \\frac{\\sqrt{2} {\\left|100\\right\\rangle }}{4} - \\frac{\\sqrt{2} {\\left|101\\right\\rangle }}{4} + \\frac{\\sqrt{2} {\\left|110\\right\\rangle }}{4} - \\frac{\\sqrt{2} {\\left|111\\right\\rangle }}{4}$"
      ],
      "text/plain": [
       "sqrt(2)*|000>/4 - sqrt(2)*|001>/4 + sqrt(2)*|010>/4 - sqrt(2)*|011>/4 + sqrt(2)*|100>/4 - sqrt(2)*|101>/4 + sqrt(2)*|110>/4 - sqrt(2)*|111>/4"
      ]
     },
     "execution_count": 10,
     "metadata": {},
     "output_type": "execute_result"
    }
   ],
   "source": [
    "circ.get_state()"
   ]
  },
  {
   "cell_type": "code",
   "execution_count": 11,
   "metadata": {
    "ExecuteTime": {
     "end_time": "2020-01-15T18:59:36.393490Z",
     "start_time": "2020-01-15T18:59:36.387303Z"
    }
   },
   "outputs": [
    {
     "data": {
      "text/latex": [
       "$\\displaystyle \\left[\\begin{matrix}\\frac{\\sqrt{2}}{4}\\\\- \\frac{\\sqrt{2}}{4}\\\\\\frac{\\sqrt{2}}{4}\\\\- \\frac{\\sqrt{2}}{4}\\\\\\frac{\\sqrt{2}}{4}\\\\- \\frac{\\sqrt{2}}{4}\\\\\\frac{\\sqrt{2}}{4}\\\\- \\frac{\\sqrt{2}}{4}\\end{matrix}\\right]$"
      ],
      "text/plain": [
       "Matrix([\n",
       "[ sqrt(2)/4],\n",
       "[-sqrt(2)/4],\n",
       "[ sqrt(2)/4],\n",
       "[-sqrt(2)/4],\n",
       "[ sqrt(2)/4],\n",
       "[-sqrt(2)/4],\n",
       "[ sqrt(2)/4],\n",
       "[-sqrt(2)/4]])"
      ]
     },
     "execution_count": 11,
     "metadata": {},
     "output_type": "execute_result"
    }
   ],
   "source": [
    "circ.get_state(output='tensor')"
   ]
  },
  {
   "cell_type": "markdown",
   "metadata": {},
   "source": [
    "# Execute Simulation"
   ]
  },
  {
   "cell_type": "code",
   "execution_count": 14,
   "metadata": {
    "ExecuteTime": {
     "end_time": "2020-01-15T18:59:38.529564Z",
     "start_time": "2020-01-15T18:59:37.659688Z"
    }
   },
   "outputs": [
    {
     "data": {
      "text/plain": [
       "Counter({'001': 117,\n",
       "         '000': 101,\n",
       "         '101': 90,\n",
       "         '110': 103,\n",
       "         '100': 94,\n",
       "         '011': 102,\n",
       "         '010': 101,\n",
       "         '111': 92})"
      ]
     },
     "execution_count": 14,
     "metadata": {},
     "output_type": "execute_result"
    }
   ],
   "source": [
    "circ.execute(num_instances=800)"
   ]
  },
  {
   "cell_type": "markdown",
   "metadata": {},
   "source": [
    "# Code To OpenQASM"
   ]
  },
  {
   "cell_type": "code",
   "execution_count": 16,
   "metadata": {
    "ExecuteTime": {
     "end_time": "2020-01-15T18:59:52.351762Z",
     "start_time": "2020-01-15T18:59:52.347323Z"
    }
   },
   "outputs": [
    {
     "name": "stdout",
     "output_type": "stream",
     "text": [
      "OPENQASM 2.0;\n",
      "include \"qelib1.inc\";\n",
      "\n",
      "qreg q[3]\n",
      "creg c[5]\n",
      "\n",
      "x q[2];\n",
      "h q[None];\n",
      "\n"
     ]
    }
   ],
   "source": [
    "print(circ.compile())"
   ]
  },
  {
   "cell_type": "markdown",
   "metadata": {},
   "source": [
    "# Measurement"
   ]
  },
  {
   "cell_type": "code",
   "execution_count": 20,
   "metadata": {
    "ExecuteTime": {
     "end_time": "2020-01-15T19:02:10.056055Z",
     "start_time": "2020-01-15T19:02:10.037153Z"
    }
   },
   "outputs": [
    {
     "data": {
      "text/plain": [
       "'1'"
      ]
     },
     "execution_count": 20,
     "metadata": {},
     "output_type": "execute_result"
    }
   ],
   "source": [
    "circ = Circuit(2, 3)\n",
    "circ.X(1)\n",
    "\n",
    "# measure qubit one and write the result to classical bit 1\n",
    "circ.measure(0, 1)\n",
    "circ.bits[1]"
   ]
  }
 ],
 "metadata": {
  "kernelspec": {
   "display_name": "Python [conda env:qiskit] *",
   "language": "python",
   "name": "conda-env-qiskit-py"
  },
  "language_info": {
   "codemirror_mode": {
    "name": "ipython",
    "version": 3
   },
   "file_extension": ".py",
   "mimetype": "text/x-python",
   "name": "python",
   "nbconvert_exporter": "python",
   "pygments_lexer": "ipython3",
   "version": "3.7.5"
  },
  "latex_envs": {
   "LaTeX_envs_menu_present": true,
   "autoclose": false,
   "autocomplete": true,
   "bibliofile": "biblio.bib",
   "cite_by": "apalike",
   "current_citInitial": 1,
   "eqLabelWithNumbers": true,
   "eqNumInitial": 1,
   "hotkeys": {
    "equation": "Ctrl-E",
    "itemize": "Ctrl-I"
   },
   "labels_anchors": false,
   "latex_user_defs": false,
   "report_style_numbering": false,
   "user_envs_cfg": false
  },
  "toc": {
   "base_numbering": 1,
   "nav_menu": {},
   "number_sections": true,
   "sideBar": true,
   "skip_h1_title": false,
   "title_cell": "Table of Contents",
   "title_sidebar": "Contents",
   "toc_cell": false,
   "toc_position": {},
   "toc_section_display": true,
   "toc_window_display": false
  }
 },
 "nbformat": 4,
 "nbformat_minor": 2
}
